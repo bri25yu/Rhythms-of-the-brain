{
 "cells": [
  {
   "cell_type": "code",
   "execution_count": 54,
   "metadata": {},
   "outputs": [],
   "source": [
    "import numpy as np\n",
    "%matplotlib inline\n",
    "import matplotlib.pyplot as plt\n",
    "from math import sin, pi\n",
    "import random\n",
    "\n",
    "\n",
    "#-----------------------------------\n",
    "# number of E- and I-cells:\n",
    "num_e=80; num_i=20;\n",
    "#-----------------------------------\n",
    "# density of synaptic connections: \n",
    "p_ee=1.0; p_ei=1.0; p_ie=1.0; p_ii=1.0;\n",
    "#-----------------------------------\n",
    "# rise and decay time constants associated with synapses:\n",
    "s1 = (num_e,1)\n",
    "s2 = (num_i,1)\n",
    "s_ee = (num_e,num_e)\n",
    "s_ei = (num_e,num_i)\n",
    "s_ie = (num_i,num_e)\n",
    "s_ii = (num_i,num_i)\n",
    "\n",
    "tau_r_e=0.1*np.ones(s1); tau_d_e=3*np.ones(s1); \n",
    "tau_r_i=0.3*np.ones(s2); tau_d_i=9*np.ones(s2); \n",
    "#-----------------------------------\n",
    "# synaptic reversal potentials: \n",
    "v_rev_e=0; v_rev_i=-80;  \n",
    "#-----------------------------------\n",
    "# time simulated (in ms):\n",
    "#t_final=200; \n",
    "t_final=200 #t_final=50\n",
    "#-----------------------------------\n",
    "# time step used in the midpoint method:\n",
    "dt=0.02; #dt=0.0002\n",
    "#-----------------------------------\n",
    "# strength of synaptic connections: \n",
    "g_hat_ie=1.5; g_hat_ei=0.5; g_hat_ii=0.5; g_hat_ee=0.0;\n",
    "#-----------------------------------\n",
    "# external drive to the E-cells:\n",
    "\n",
    "# deterministic drive:\n",
    "#I_e=1.25*ones(num_e,1);\n",
    "def I_e(v):\n",
    "    return np.ones(s1)\n",
    "\n",
    "# maximum conductance, decay time, and frequency of Poisson train of excitatory input pulses:\n",
    "g_stoch_e=0; f_stoch_e=20; tau_d_stoch_e=3; \n",
    "#-----------------------------------\n",
    "#-----------------------------------\n",
    "# external drive to the I-cells:\n",
    "\n",
    "# deterministic drive:\n",
    "#I_i= zeros(num_i,1);\n",
    "def I_i(v):\n",
    "    return np.zeros(s2)\n",
    "# maximum conductance, decay time, and frequency of Poisson train of excitatory input pulses:\n",
    "g_stoch_i=0; f_stoch_i=0; tau_d_stoch_i=3; \n",
    "#-----------------------------------"
   ]
  },
  {
   "cell_type": "markdown",
   "metadata": {},
   "source": [
    "After running the previous initialization, run one of the following initializations to override variables and produce the specific plots shown in Figure 1. Then run the function definition box as well as the gamma simulation box before producing the desired graph."
   ]
  },
  {
   "cell_type": "code",
   "execution_count": 55,
   "metadata": {},
   "outputs": [],
   "source": [
    "#Graph A Initialization\n",
    "def I_e(v):\n",
    "    I = np.ones(s1)\n",
    "    for i in np.arange(num_e):\n",
    "        I[i] = (2.5 + 2*i)/num_e\n",
    "    return I"
   ]
  },
  {
   "cell_type": "code",
   "execution_count": 27,
   "metadata": {},
   "outputs": [],
   "source": [
    "#Graph B Initialization\n",
    "def I_e(v):\n",
    "    return 1.25*np.ones(s1)\n",
    "g_stoch_e = 0.1\n",
    "f_stoch_e = 20\n",
    "tau_d_stoch_e = 3\n"
   ]
  },
  {
   "cell_type": "code",
   "execution_count": 35,
   "metadata": {},
   "outputs": [],
   "source": [
    "#Graph C Initialization\n",
    "def I_e(v):\n",
    "    I = np.ones(s1)\n",
    "    for i in np.arange(20):\n",
    "        I[i] = 3.25*I[i]\n",
    "    for i in np.arange(20, 80, 1):\n",
    "        I[i] = 1.25*I[i]\n",
    "    return I\n",
    "g_stoch_e = 0.1\n"
   ]
  },
  {
   "cell_type": "code",
   "execution_count": 40,
   "metadata": {},
   "outputs": [],
   "source": [
    "#Graph D Initialization\n",
    "def I_e(v):\n",
    "    I = np.ones(s1)\n",
    "    for i in np.arange(20):\n",
    "        I[i] = 3.25*I[i]\n",
    "    for i in np.arange(20, 80, 1):\n",
    "        I[i] = 1.25*I[i]\n",
    "    return I\n",
    "g_stoch_e = 0.1\n",
    "g_hat_ei = 0\n",
    "g_hat_ii = 0\n",
    "g_stoch_i = 0.5\n",
    "f_stoch_i = 38\n",
    "tau_d_stoch_i = 1"
   ]
  },
  {
   "cell_type": "code",
   "execution_count": 45,
   "metadata": {},
   "outputs": [],
   "source": [
    "#Graph E Initialization\n",
    "def I_e(v):\n",
    "    return 4*sin(40*pi*v/1000)**8 + 4*sin(56*pi*v/1000)**2"
   ]
  },
  {
   "cell_type": "code",
   "execution_count": 50,
   "metadata": {},
   "outputs": [],
   "source": [
    "#Graph F Initialization\n",
    "g_hat_ie = 0\n",
    "def I_e(v):\n",
    "    return 4*sin(40*pi*v/1000)**8 + 4*sin(56*pi*v/1000)**2"
   ]
  },
  {
   "cell_type": "code",
   "execution_count": 56,
   "metadata": {},
   "outputs": [],
   "source": [
    "#functions def\n",
    "\n",
    "def h_e_inf(v):\n",
    "    alpha_h=0.128*np.exp(-(v+50)/18)\n",
    "    beta_h=4/(1+np.exp(-(v+27)/5))\n",
    "    return (alpha_h/(alpha_h+beta_h))\n",
    "\n",
    "def h_i_inf(v):\n",
    "    alpha_h=0.07*np.exp(-(v+58)/20)\n",
    "    beta_h=1/(np.exp(-0.1*(v+28))+1)\n",
    "    return (alpha_h/(alpha_h+beta_h))\n",
    "\n",
    "def m_e_inf(v):\n",
    "    alpha_m=0.32*(v+54)/(1-np.exp(-(v+54)/4))\n",
    "    beta_m=0.28*(v+27)/(np.exp((v+27)/5)-1)\n",
    "    return (alpha_m/(alpha_m+beta_m))\n",
    "\n",
    "def m_i_inf(v):\n",
    "    alpha_m=0.1*(v+35)/(1-np.exp(-(v+35)/10))\n",
    "    beta_m=4*np.exp(-(v+60)/18)\n",
    "    return (alpha_m/(alpha_m+beta_m))\n",
    "\n",
    "def n_e_inf(v):\n",
    "    alpha_n=0.032*(v+52)/(1-np.exp(-(v+52)/5))\n",
    "    beta_n=0.5*np.exp(-(v+57)/40)\n",
    "    return (alpha_n/(alpha_n+beta_n))\n",
    "\n",
    "def n_i_inf(v):\n",
    "    alpha_n=-0.01*(v+34)/(np.exp(-0.1*(v+34))-1)\n",
    "    beta_n=0.125*np.exp(-(v+44)/80)\n",
    "    return (alpha_n/(alpha_n+beta_n))\n",
    "\n",
    "def tau_h_e(v):\n",
    "    alpha_h = 0.128*np.exp(-(v+50)/18)\n",
    "    beta_h = 4/(1+np.exp(-(v+27)/5))\n",
    "    return (1/(alpha_h+beta_h))\n",
    "\n",
    "def tau_h_i(v):\n",
    "    alpha_h=0.07*np.exp(-(v+58)/20)\n",
    "    beta_h=1/(np.exp(-0.1*(v+28))+1)\n",
    "    phi=5\n",
    "    return (1/((alpha_h+beta_h)*phi)) \n",
    "    \n",
    "def tau_n_e(v):\n",
    "    alpha_n=0.032*(v+52)/(1-np.exp(-(v+52)/5));\n",
    "    beta_n=0.5*np.exp(-(v+57)/40);\n",
    "    return (1/(alpha_n+beta_n));\n",
    "\n",
    "def tau_n_i(v):\n",
    "    alpha_n=-0.01*(v+34)/(np.exp(-0.1*(v+34))-1);\n",
    "    beta_n=0.125*np.exp(-(v+44)/80);\n",
    "    phi=5\n",
    "    return (1/((alpha_n+beta_n)*phi));\n",
    "\n",
    "\n",
    " "
   ]
  },
  {
   "cell_type": "code",
   "execution_count": 57,
   "metadata": {},
   "outputs": [],
   "source": [
    "\n",
    "# \"part\" refers to which part of question 4 is being answered. \n",
    "# If part == 1, then returns voltages for E-cells and I-cells\n",
    "# If part == 2, then returns spike_times and cell_numbers for raster plots\n",
    "\n",
    "def gamma_simulation(part):\n",
    "    \n",
    "    # Initialize variables\n",
    "    \n",
    "    v_e=-80+30*np.random.rand(s1[0],s1[1]);\n",
    "    n_e=0*np.ones(s1) \n",
    "    m_e=m_e_inf(v_e); \n",
    "    h_e=0*np.ones(s1); \n",
    "    s_e=np.zeros(s1);\n",
    "    v_i=-80+30*np.random.rand(s2[0],s2[1]); \n",
    "    n_i=0*np.ones(s2); \n",
    "    m_i=m_i_inf(v_i);\n",
    "    h_i=0*np.ones(s2); \n",
    "    s_i=np.zeros(s2);\n",
    "    s_stoch_e=np.ones(s1); s_stoch_i=np.ones(s2);\n",
    "    num_spikes_e=0; num_spikes_i=0;\n",
    "    \n",
    "    dt05=dt/2;\n",
    "    m_steps1=np.floor(t_final/dt+0.1);\n",
    "    m_steps=m_steps1.astype(int)\n",
    "    r_e=np.exp(-dt05/tau_d_stoch_e);\n",
    "    r_i=np.exp(-dt05/tau_d_stoch_i);\n",
    "\n",
    "    # set synaptic conductances\n",
    "\n",
    "    g_ee=g_hat_ee*np.divide(np.multiply(np.ones(s_ee),(np.sign(p_ee-np.random.rand(s_ee[0],s_ee[1]))+1)),2*(p_ee*num_e))\n",
    "    g_ei=g_hat_ei*np.divide(np.multiply(np.ones(s_ei),(np.sign(p_ei-np.random.rand(s_ei[0],s_ei[1]))+1)),2*(p_ei*num_e))\n",
    "    g_ie=g_hat_ie*np.divide(np.multiply(np.ones(s_ie),(np.sign(p_ie-np.random.rand(s_ie[0],s_ie[1]))+1)),2*(p_ie*num_i)) \n",
    "    g_ii=g_hat_ii*np.divide(np.multiply(np.ones(s_ii),(np.sign(p_ii-np.random.rand(s_ii[0],s_ii[1]))+1)),2*(p_ii*num_i))\n",
    "    \n",
    "    # Create arrays to store voltage data to draw action potential\n",
    "    voltages_e = np.array([])\n",
    "    voltages_i = np.array([])\n",
    "\n",
    "    # Create new arrays to store data points for raster plot\n",
    "    cell_numbers = np.array([])\n",
    "    spike_times = np.array([])\n",
    "    iteration = 0\n",
    "    \n",
    "    # solve the system of Hodgkin-Huxley-like equations using the midpoint method\n",
    "\n",
    "    for k in range(m_steps):\n",
    "        t_old=(k-1)*dt; t_new=k*dt; t_mid=(t_old+t_new)/2;\n",
    "\n",
    "        v_e_inc=0.1*(-67-v_e)+80*np.multiply((n_e**4),(-100-v_e)) \\\n",
    "                +100*np.multiply((m_e**3),np.multiply(h_e,(50-v_e))) \\\n",
    "                +np.multiply(np.dot(g_ee.T,s_e),(v_rev_e-v_e))+np.multiply(np.dot(g_ie.T,s_i),(v_rev_i-v_e))\\\n",
    "                +I_e(t_old)+g_stoch_e*np.multiply(s_stoch_e,(v_rev_e-v_e));\n",
    "        n_e_inc=np.divide((n_e_inf(v_e)-n_e),tau_n_e(v_e));\n",
    "        h_e_inc=np.divide((h_e_inf(v_e)-h_e),tau_h_e(v_e));\n",
    "        s_e_inc=np.divide(np.multiply(0.5*(1+np.tanh(v_e/4)),(1-s_e)),tau_r_e)\\\n",
    "                -np.divide(s_e,tau_d_e);\n",
    "    \n",
    "        \n",
    "        v_i_inc=0.1*(-65-v_i)+9*np.multiply(((n_i)**4),(-90-v_i))\\\n",
    "                +35*np.multiply((m_i)**3,np.multiply(h_i,(55-v_i)))\\\n",
    "                +np.multiply(np.dot(g_ei.T,s_e),(v_rev_e-v_i))+np.multiply(np.dot(g_ii.T,s_i),(v_rev_i-v_i))\\\n",
    "                +I_i(t_old)+g_stoch_i*np.multiply(s_stoch_i,(v_rev_e-v_i));\n",
    "        n_i_inc=np.divide((n_i_inf(v_i)-n_i),tau_n_i(v_i));\n",
    "        h_i_inc=np.divide((h_i_inf(v_i)-h_i),tau_h_i(v_i));\n",
    "        s_i_inc=np.divide(np.multiply(0.5*(1+np.tanh(v_i/4)),(1-s_i)),tau_r_i)\\\n",
    "                -np.divide(s_i,tau_d_i);\n",
    "\n",
    "        v_e_tmp=v_e+dt05*v_e_inc;\n",
    "        n_e_tmp=n_e+dt05*n_e_inc;\n",
    "        m_e_tmp=m_e_inf(v_e_tmp);\n",
    "        h_e_tmp=h_e+dt05*h_e_inc;\n",
    "        s_e_tmp=s_e+dt05*s_e_inc;    \n",
    "        v_i_tmp=v_i+dt05*v_i_inc;\n",
    "        n_i_tmp=n_i+dt05*n_i_inc;\n",
    "        m_i_tmp=m_i_inf(v_i_tmp);\n",
    "        h_i_tmp=h_i+dt05*h_i_inc;\n",
    "        s_i_tmp=s_i+dt05*s_i_inc;   \n",
    "        s_stoch_e=s_stoch_e*r_e; s_stoch_i=s_stoch_i*r_i;\n",
    "\n",
    "        v_e_inc=0.1*(-67-v_e_tmp)+80*np.multiply((n_e_tmp)**4,(-100-v_e_tmp))\\\n",
    "                   +100*np.multiply((m_e_tmp)**3,np.multiply(h_e_tmp,(50-v_e_tmp)))\\\n",
    "                   +np.multiply(np.dot(g_ee.T,s_e_tmp),(v_rev_e-v_e_tmp))\\\n",
    "                   +np.multiply(np.dot(g_ie.T,s_i_tmp),(v_rev_i-v_e_tmp))\\\n",
    "                    +I_e(t_mid)+g_stoch_e*np.multiply(s_stoch_e,(v_rev_e-v_e_tmp));\n",
    "        n_e_inc=np.divide((n_e_inf(v_e_tmp)-n_e_tmp),tau_n_e(v_e_tmp));\n",
    "        h_e_inc=np.divide((h_e_inf(v_e_tmp)-h_e_tmp),tau_h_e(v_e_tmp));\n",
    "    \n",
    "        s_e_inc=np.divide(np.multiply(0.5*(1+np.tanh(v_e_tmp/4)),(1-s_e_tmp)),tau_r_e)\\\n",
    "                    -np.divide(s_e_tmp,tau_d_e); \n",
    "        v_i_inc=0.1*(-65-v_i_tmp)+9*np.multiply((n_i_tmp)**4,(-90-v_i_tmp))\\\n",
    "                   +35*np.multiply((m_i_tmp)**3, np.multiply(h_i_tmp,(55-v_i_tmp)))\\\n",
    "                   +np.multiply(np.dot(g_ei.T,s_e_tmp),(v_rev_e-v_i_tmp))\\\n",
    "                   +np.multiply(np.dot(g_ii.T,s_i_tmp),(v_rev_i-v_i_tmp))\\\n",
    "                    +I_i(t_mid)+g_stoch_i*np.multiply(s_stoch_i,(v_rev_e-v_i_tmp));\n",
    "        n_i_inc=np.divide((n_i_inf(v_i_tmp)-n_i_tmp),tau_n_i(v_i_tmp));\n",
    "        h_i_inc=np.divide((h_i_inf(v_i_tmp)-h_i_tmp),tau_h_i(v_i_tmp));\n",
    "        s_i_inc=np.divide(np.multiply(0.5*(1+np.tanh(v_i_tmp/4)),(1-s_i_tmp)),tau_r_i)\\\n",
    "                    -np.divide(s_i_tmp,tau_d_i);\n",
    "        \n",
    "        v_e_old=v_e;\n",
    "        v_i_old=v_i;\n",
    "        v_e=v_e+dt*v_e_inc;\n",
    "        n_e=n_e+dt*n_e_inc;\n",
    "        m_e=m_e_inf(v_e);\n",
    "        h_e=h_e+dt*h_e_inc;\n",
    "        s_e=s_e+dt*s_e_inc;\n",
    "        v_i=v_i+dt*v_i_inc;\n",
    "        n_i=n_i+dt*n_i_inc;\n",
    "        m_i=m_i_inf(v_i);\n",
    "        h_i=h_i+dt*h_i_inc;\n",
    "        s_i=s_i+dt*s_i_inc;\n",
    "        \n",
    "        # Update voltages_e and voltages_i for Part 1\n",
    "        # Use np.average to get an average of all cells\n",
    "        \n",
    "        voltages_e = np.append(voltages_e, np.average(v_e))\n",
    "        voltages_i = np.append(voltages_i, np.average(v_i))\n",
    "    \n",
    "        #Check for spikes in E_cells\n",
    "        \n",
    "        for i in np.arange(num_e):\n",
    "            if v_e_old[i] < 0 and v_e[i] >= 0:\n",
    "                cell_numbers = np.append(cell_numbers, i + 20)\n",
    "                spike_times = np.append(spike_times, iteration)\n",
    "    \n",
    "        #Check for spikes in I_cells\n",
    "        \n",
    "        for i in np.arange(num_i):\n",
    "            if v_i_old[i] < 0 and v_i[i] >= 0:\n",
    "                cell_numbers = np.append(cell_numbers, i)\n",
    "                spike_times = np.append(spike_times, iteration)\n",
    "    \n",
    "        iteration += 1\n",
    "        \n",
    "        # Stochastic decay or jump to 1\n",
    "        \n",
    "        s_stoch_e=s_stoch_e*r_e; s_stoch_i=s_stoch_i*r_i;\n",
    "        u_e=np.random.rand(num_e,1); u_i=np.random.rand(num_i,1);\n",
    "        s_stoch_e=s_stoch_e+np.multiply(np.maximum(np.sign(f_stoch_e*dt/1000-u_e),np.zeros(s1)),(1-s_stoch_e));\n",
    "        s_stoch_i=s_stoch_i+np.multiply(np.maximum(np.sign(f_stoch_i*dt/1000-u_i),np.zeros(s2)),(1-s_stoch_i));\n",
    "        \n",
    "    if part == 1:\n",
    "        return voltages_e, voltages_i, iteration\n",
    "    else:\n",
    "        return cell_numbers, spike_times\n",
    "\n"
   ]
  },
  {
   "cell_type": "markdown",
   "metadata": {},
   "source": [
    "Problem 4, Part 1"
   ]
  },
  {
   "cell_type": "markdown",
   "metadata": {},
   "source": [
    "Form of action potentials for E cells (blue) and I cells (orange). The I cells fire immediately after the E cells fire. (Note: the voltage was averaged across all E cells and I cells to obtain this graph)"
   ]
  },
  {
   "cell_type": "code",
   "execution_count": 8,
   "metadata": {},
   "outputs": [
    {
     "data": {
      "text/plain": [
       "[<matplotlib.lines.Line2D at 0x7f1b2b03cd00>]"
      ]
     },
     "execution_count": 8,
     "metadata": {},
     "output_type": "execute_result"
    },
    {
     "data": {
      "image/png": "[encoded data removed]",
      "text/plain": [
       "<Figure size 432x288 with 1 Axes>"
      ]
     },
     "metadata": {
      "needs_background": "light"
     },
     "output_type": "display_data"
    }
   ],
   "source": [
    "voltages_e, voltages_i, iteration = gamma_simulation(1)\n",
    "plt.plot(np.arange(iteration), voltages_e)\n",
    "plt.plot(np.arange(iteration), voltages_i)"
   ]
  },
  {
   "cell_type": "markdown",
   "metadata": {},
   "source": [
    "Raster plot visualizing the firing of each individual neuron."
   ]
  },
  {
   "cell_type": "code",
   "execution_count": 9,
   "metadata": {},
   "outputs": [],
   "source": [
    "cell_numbers, spike_times = gamma_simulation(2)"
   ]
  },
  {
   "cell_type": "code",
   "execution_count": 10,
   "metadata": {},
   "outputs": [
    {
     "data": {
      "text/plain": [
       "<matplotlib.collections.PathCollection at 0x7f1b26cdc490>"
      ]
     },
     "execution_count": 10,
     "metadata": {},
     "output_type": "execute_result"
    },
    {
     "data": {
      "image/png": "[encoded data removed]",
      "text/plain": [
       "<Figure size 432x288 with 1 Axes>"
      ]
     },
     "metadata": {
      "needs_background": "light"
     },
     "output_type": "display_data"
    }
   ],
   "source": [
    "plt.scatter(spike_times, cell_numbers, marker='o')"
   ]
  },
  {
   "cell_type": "markdown",
   "metadata": {},
   "source": [
    "Problem 4, Part 2"
   ]
  },
  {
   "cell_type": "markdown",
   "metadata": {},
   "source": [
    "To generate each graph, run the first initialization, then the overriding initialization unique to each plot in the figure. After that run the function defining box and the gamma_simulation defining box, then create the plot below."
   ]
  },
  {
   "cell_type": "code",
   "execution_count": 58,
   "metadata": {},
   "outputs": [
    {
     "data": {
      "text/plain": [
       "<matplotlib.collections.PathCollection at 0x7f1b269edaf0>"
      ]
     },
     "execution_count": 58,
     "metadata": {},
     "output_type": "execute_result"
    },
    {
     "data": {
      "image/png": "[encoded data removed]",
      "text/plain": [
       "<Figure size 432x288 with 1 Axes>"
      ]
     },
     "metadata": {
      "needs_background": "light"
     },
     "output_type": "display_data"
    }
   ],
   "source": [
    "#Plot Graph A\n",
    "cell_numbers, spike_times = gamma_simulation(2)\n",
    "plt.scatter(spike_times, cell_numbers, marker='o')"
   ]
  },
  {
   "cell_type": "code",
   "execution_count": 33,
   "metadata": {},
   "outputs": [
    {
     "data": {
      "text/plain": [
       "<matplotlib.collections.PathCollection at 0x7f1b26b51310>"
      ]
     },
     "execution_count": 33,
     "metadata": {},
     "output_type": "execute_result"
    },
    {
     "data": {
      "image/png": "[encoded data removed]",
      "text/plain": [
       "<Figure size 432x288 with 1 Axes>"
      ]
     },
     "metadata": {
      "needs_background": "light"
     },
     "output_type": "display_data"
    }
   ],
   "source": [
    "#Plot Graph B\n",
    "cell_numbers, spike_times = gamma_simulation(2)\n",
    "plt.scatter(spike_times, cell_numbers, marker='o')"
   ]
  },
  {
   "cell_type": "code",
   "execution_count": 38,
   "metadata": {},
   "outputs": [
    {
     "data": {
      "text/plain": [
       "<matplotlib.collections.PathCollection at 0x7f1b26b015e0>"
      ]
     },
     "execution_count": 38,
     "metadata": {},
     "output_type": "execute_result"
    },
    {
     "data": {
      "image/png": "[encoded data removed]",
      "text/plain": [
       "<Figure size 432x288 with 1 Axes>"
      ]
     },
     "metadata": {
      "needs_background": "light"
     },
     "output_type": "display_data"
    }
   ],
   "source": [
    "#Plot Graph C\n",
    "cell_numbers, spike_times = gamma_simulation(2)\n",
    "plt.scatter(spike_times, cell_numbers, marker='o')"
   ]
  },
  {
   "cell_type": "code",
   "execution_count": 43,
   "metadata": {},
   "outputs": [
    {
     "data": {
      "text/plain": [
       "<matplotlib.collections.PathCollection at 0x7f1b26a83670>"
      ]
     },
     "execution_count": 43,
     "metadata": {},
     "output_type": "execute_result"
    },
    {
     "data": {
      "image/png": "[encoded data removed]",
      "text/plain": [
       "<Figure size 432x288 with 1 Axes>"
      ]
     },
     "metadata": {
      "needs_background": "light"
     },
     "output_type": "display_data"
    }
   ],
   "source": [
    "#Plot Graph D\n",
    "cell_numbers, spike_times = gamma_simulation(2)\n",
    "plt.scatter(spike_times, cell_numbers, marker='o')"
   ]
  },
  {
   "cell_type": "code",
   "execution_count": 48,
   "metadata": {},
   "outputs": [
    {
     "data": {
      "text/plain": [
       "<matplotlib.collections.PathCollection at 0x7f1b26a45d60>"
      ]
     },
     "execution_count": 48,
     "metadata": {},
     "output_type": "execute_result"
    },
    {
     "data": {
      "image/png": "[encoded data removed]",
      "text/plain": [
       "<Figure size 432x288 with 1 Axes>"
      ]
     },
     "metadata": {
      "needs_background": "light"
     },
     "output_type": "display_data"
    }
   ],
   "source": [
    "#Plot Graph E\n",
    "cell_numbers, spike_times = gamma_simulation(2)\n",
    "plt.scatter(spike_times, cell_numbers, marker='o')"
   ]
  },
  {
   "cell_type": "code",
   "execution_count": 53,
   "metadata": {},
   "outputs": [
    {
     "data": {
      "text/plain": [
       "<matplotlib.collections.PathCollection at 0x7f1b26a13070>"
      ]
     },
     "execution_count": 53,
     "metadata": {},
     "output_type": "execute_result"
    },
    {
     "data": {
      "image/png": "[encoded data removed]",
      "text/plain": [
       "<Figure size 432x288 with 1 Axes>"
      ]
     },
     "metadata": {
      "needs_background": "light"
     },
     "output_type": "display_data"
    }
   ],
   "source": [
    "#Plot Graph F\n",
    "cell_numbers, spike_times = gamma_simulation(2)\n",
    "plt.scatter(spike_times, cell_numbers, marker='o')"
   ]
  },
  {
   "cell_type": "code",
   "execution_count": null,
   "metadata": {},
   "outputs": [],
   "source": []
  }
 ],
 "metadata": {
  "kernelspec": {
   "display_name": "Python 3",
   "language": "python",
   "name": "python3"
  },
  "language_info": {
   "codemirror_mode": {
    "name": "ipython",
    "version": 3
   },
   "file_extension": ".py",
   "mimetype": "text/x-python",
   "name": "python",
   "nbconvert_exporter": "python",
   "pygments_lexer": "ipython3",
   "version": "3.8.8"
  }
 },
 "nbformat": 4,
 "nbformat_minor": 2
}
